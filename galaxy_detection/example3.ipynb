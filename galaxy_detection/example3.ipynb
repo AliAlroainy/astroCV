{
 "cells": [
  {
   "cell_type": "code",
   "execution_count": null,
   "metadata": {},
   "outputs": [],
   "source": [
    "#Basic AstroCV example 3\n",
    "#Detect galaxies in online images\n",
    "#Optimal image ratio = 4:3 (ratio of traning images)\n",
    "#Detects galaxies in online images, then crops them so they have a 4:3 ratio, and compares number of galaxies detected in the cropped zone\n",
    "\n",
    "\n",
    "import sys     \n",
    "import pyyolo\n",
    "import numpy as np\n",
    "from PIL import Image, ImageEnhance\n",
    "import matplotlib.patches as patches\n",
    "import matplotlib.pyplot as plt\n",
    "import time\n",
    "import urllib\n",
    "import os.path"
   ]
  },
  {
   "cell_type": "code",
   "execution_count": null,
   "metadata": {},
   "outputs": [],
   "source": [
    "if sys.version_info[0] >= 3:\n",
    "    from urllib.request import urlretrieve\n",
    "else:\n",
    "    # Not Python 3 - today, it is most likely to be Python 2\n",
    "    # But note that this might need an update when Python 4\n",
    "    # might be around one day\n",
    "    from urllib import urlretrieve\n",
    "    \n",
    "## This code imports urlretrieve from the right library, since they're different for Python versions 2 and  3\n",
    "    \n",
    "##code from https://stackoverflow.com/questions/17960942/attributeerror-module-object-has-no-attribute-urlretrieve"
   ]
  },
  {
   "cell_type": "code",
   "execution_count": null,
   "metadata": {},
   "outputs": [],
   "source": [
    "darknet_path = './data/darknet' #darknet path\n",
    "datacfg = '../sdss.data' #relative to darknet path\n",
    "cfgfile = '../sdss.cfg' #relative to darknet path\n",
    "weightfile = '/mnt/data/astrocv/galaxy_sdss_hic.weights'\n",
    "filename = 'writable/tempImageDownload.jpg' #relative to galaxy_detection path\n",
    "\n",
    "\n",
    "##Three images with bad ratios\n",
    "\n",
    "#url = \"https://www.nasa.gov/sites/default/files/thumbnails/image/hubble_friday_03112016.jpg\" #square image\n",
    "#url = \"http://wwwcdn.skyandtelescope.com/wp-content/uploads/a-galaxy-cluster-1.jpg\" #tall image\n",
    "url = \"https://i.kinja-img.com/gawker-media/image/upload/s--RkydXzP0--/c_scale,fl_progressive,q_80,w_800/t4eipzajwxxfp3retytv.jpg\" #wide image\n",
    "\n",
    "\n",
    "if not os.path.isfile(filename):\n",
    "    urlretrieve(url,filename)\n",
    "thresh = 0.1  #detection threshold try 0.02 & 0.1\n",
    "hier_thresh = 0.5"
   ]
  },
  {
   "cell_type": "code",
   "execution_count": null,
   "metadata": {},
   "outputs": [],
   "source": [
    "##The following code crops the image to a good image ratio.\n",
    "##It won't crop the image if the ratio is ~4:3\n",
    "\n",
    "img = Image.open(filename)\n",
    "width, height = img.size\n",
    "ratio=width/height\n",
    "\n",
    "cropped = False\n",
    "if abs(ratio-(4/3))>0.05:\n",
    "        cropped = True\n",
    "        if ratio<=(4/3):\n",
    "                fheight=int(width*(3/4))\n",
    "                img2 = img.crop((0, 0, width, fheight))\n",
    "        else:\n",
    "                fwidth = int(height*4/3)\n",
    "                img2 = img.crop((0, 0, fwidth, height))\n",
    "         \n",
    "        img2.save(\"writable/tempImageDownload2.jpg\")\n",
    "        filename2=\"writable/tempImageDownload2.jpg\"\n",
    "        \n",
    "        "
   ]
  },
  {
   "cell_type": "code",
   "execution_count": null,
   "metadata": {},
   "outputs": [],
   "source": [
    "t1=time.time()\n",
    "pyyolo.init(darknet_path, datacfg, cfgfile, weightfile) #init and load network\n",
    "print('Initialization time = %5.3f seconds'%(time.time()-t1))\n",
    "t1=time.time()\n",
    "outputs = pyyolo.test(filename, thresh, hier_thresh, 0) #load image and process\n",
    "print('Image processing time = %5.3f seconds'%(time.time()-t1))\n",
    "\n",
    "asd=0\n",
    "\n",
    "for output in outputs:\n",
    "        asd+=1\n",
    "        print(output)\n",
    "        \n",
    "print(\"%d images detected\"%asd)\n",
    "pyyolo.cleanup()\n"
   ]
  },
  {
   "cell_type": "code",
   "execution_count": null,
   "metadata": {},
   "outputs": [],
   "source": [
    "##Here we process the cropped image, if cropped\n",
    "\n",
    "if cropped:\n",
    "    t2=time.time()\n",
    "    pyyolo.init(darknet_path, datacfg, cfgfile, weightfile) #init and load network\n",
    "    print('Initialization time = %5.3f seconds'%(time.time()-t2))\n",
    "    t2=time.time()\n",
    "    outputs2 = pyyolo.test(filename2, thresh, hier_thresh, 0) #load image and process\n",
    "    print('Image processing time = %5.3f seconds'%(time.time()-t2))\n",
    "\n",
    "    asd=0\n",
    "\n",
    "    for output in outputs2:\n",
    "            asd+=1\n",
    "            print(output)\n",
    "\n",
    "    print(\"%d images detected\"%asd)\n",
    "    pyyolo.cleanup()"
   ]
  },
  {
   "cell_type": "code",
   "execution_count": null,
   "metadata": {
    "scrolled": true
   },
   "outputs": [],
   "source": [
    "#plot image and detections\n",
    "#plot red line showing where the crop was made (always above or at the left side of the line)\n",
    "\n",
    "\n",
    "img = Image.open(filename)\n",
    "contrast = ImageEnhance.Contrast(img)\n",
    "img2 = contrast.enhance(1)\n",
    "fig,ax = plt.subplots(figsize=(15,12))\n",
    "plt.axis('off')\n",
    "plt.tight_layout(pad=0)\n",
    "plt.imshow(img2)\n",
    "ax.set_aspect('equal')\n",
    "\n",
    "inliers = 0\n",
    "for output in outputs:\n",
    "        r=output['right']\n",
    "        l=output['left']\n",
    "        t=output['top']\n",
    "        b=output['bottom']\n",
    "        if cropped:\n",
    "                if width/height<4/3:\n",
    "                        if b<fheight:\n",
    "                                inliers+=1\n",
    "                else:\n",
    "                        if r<fwidth:\n",
    "                                inliers+=1\n",
    "\n",
    "                                \n",
    "                                \n",
    "        rect = patches.Rectangle((l-4,t-3),r-l+8,b-t+4,linewidth=1,edgecolor='b',facecolor='none')      \n",
    "        ax.add_patch(rect)\n",
    "        ax.annotate(output['class'],(l-7,t-19),color='w',fontsize=16)\n",
    "        \n",
    "\n",
    "\n",
    "if cropped:\n",
    "        if width/height<4/3:\n",
    "                plt.axhline(fheight,color='red')\n",
    "        else:\n",
    "                plt.axvline(fwidth,color='red')\n",
    "\n",
    "plt.subplots_adjust(left=0, bottom=0, right=1, top=1, wspace=0, hspace=0) \n",
    "plt.show()\n"
   ]
  },
  {
   "cell_type": "code",
   "execution_count": null,
   "metadata": {},
   "outputs": [],
   "source": [
    "#plot image and detections for cropped image\n",
    "img = Image.open(filename2)\n",
    "contrast = ImageEnhance.Contrast(img)\n",
    "img2 = contrast.enhance(1)\n",
    "fig,ax = plt.subplots(figsize=(15,12))\n",
    "plt.axis('off')\n",
    "plt.tight_layout(pad=0)\n",
    "plt.imshow(img2)\n",
    "ax.set_aspect('equal')\n",
    "\n",
    "\n",
    "for output in outputs2:\n",
    "        r=output['right']\n",
    "        l=output['left']\n",
    "        t=output['top']\n",
    "        b=output['bottom']\n",
    "           \n",
    "        rect = patches.Rectangle((l-4,t-3),r-l+8,b-t+4,linewidth=1,edgecolor='b',facecolor='none')      \n",
    "        ax.add_patch(rect)\n",
    "        ax.annotate(output['class'],(l-7,t-19),color='w',fontsize=16)\n",
    "        \n",
    "\n",
    "\n",
    "plt.subplots_adjust(left=0, bottom=0, right=1, top=1, wspace=0, hspace=0) \n",
    "plt.show()"
   ]
  },
  {
   "cell_type": "code",
   "execution_count": null,
   "metadata": {},
   "outputs": [],
   "source": [
    "print(\"In the raw image, %d galaxies were found in the area to be cropped\"%inliers)\n",
    "print(\"In the cropped image, %d galaxies were found\"%asd )"
   ]
  },
  {
   "cell_type": "code",
   "execution_count": null,
   "metadata": {},
   "outputs": [],
   "source": [
    "os.remove(\"writable/tempImageDownload.jpg\")\n",
    "os.remove(\"writable/tempImageDownload2.jpg\")\n",
    "##deletes temp images after downloading"
   ]
  },
  {
   "cell_type": "code",
   "execution_count": null,
   "metadata": {},
   "outputs": [],
   "source": [
    "%%javascript\n",
    "IPython.notebook.kernel.restart();"
   ]
  }
 ],
 "metadata": {
  "kernelspec": {
   "display_name": "Python 3",
   "language": "python",
   "name": "python3"
  },
  "language_info": {
   "codemirror_mode": {
    "name": "ipython",
    "version": 3
   },
   "file_extension": ".py",
   "mimetype": "text/x-python",
   "name": "python",
   "nbconvert_exporter": "python",
   "pygments_lexer": "ipython3",
   "version": "3.4.3"
  }
 },
 "nbformat": 4,
 "nbformat_minor": 2
}
